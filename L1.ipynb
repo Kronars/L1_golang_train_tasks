{
 "cells": [
  {
   "cell_type": "markdown",
   "metadata": {},
   "source": [
    "# Настройка окружения"
   ]
  },
  {
   "attachments": {},
   "cell_type": "markdown",
   "metadata": {},
   "source": [
    "Первый запуск:\n",
    "\n",
    "`docker run --name goNotebook -it -p 8888:8888 -v /mnt/c/Users/Senya/Prog_2/:/notebooks gopherdata/gophernotes:latest-ds`"
   ]
  },
  {
   "cell_type": "markdown",
   "metadata": {},
   "source": [
    "Последующий запуск контейнера\n",
    "\n",
    "`docker start -i goNotebook`"
   ]
  },
  {
   "attachments": {},
   "cell_type": "markdown",
   "metadata": {},
   "source": [
    "Найти в выводе ссылку с токеном на нотебук и скопировать токен\n",
    "\n",
    "http://127.0.0.1:8888/?token=здесьтокен"
   ]
  },
  {
   "attachments": {},
   "cell_type": "markdown",
   "metadata": {},
   "source": [
    "# Задачи\n",
    "\n",
    "Ядро для `jupyter` - `gophernotes` ещё не доработано, 3 задачи не запустились в нотебуке, но прекрасно работают в отдельном файле  \n",
    "Поэтому их решения дублируются отдельными файлами"
   ]
  },
  {
   "cell_type": "code",
   "execution_count": 33,
   "metadata": {},
   "outputs": [],
   "source": [
    "import (\n",
    "    \"fmt\"\n",
    "    \"time\"\n",
    ")"
   ]
  },
  {
   "cell_type": "markdown",
   "metadata": {},
   "source": [
    "## 1 Встраивание\n",
    "Дана структура Human (с произвольным набором полей и методов).  \n",
    "Реализовать встраивание методов в структуре Action от родительской структуры  \n",
    "Human (аналог наследования).\n"
   ]
  },
  {
   "cell_type": "code",
   "execution_count": 9,
   "metadata": {},
   "outputs": [],
   "source": [
    "type Human struct {\n",
    "    life bool\n",
    "    hands int\n",
    "}\n",
    "\n",
    "func (h *Human) ShowHands() {\n",
    "    fmt.Printf(\"Количество рук: %d\", h.hands)\n",
    "}"
   ]
  },
  {
   "cell_type": "code",
   "execution_count": 10,
   "metadata": {},
   "outputs": [
    {
     "name": "stdout",
     "output_type": "stream",
     "text": [
      "Количество рук: 0"
     ]
    }
   ],
   "source": [
    "Nick := Human{false, 0}\n",
    "Nick.ShowHands()"
   ]
  },
  {
   "cell_type": "code",
   "execution_count": 16,
   "metadata": {},
   "outputs": [],
   "source": [
    "type Action struct {\n",
    "\tHuman\n",
    "\thandAmount int\n",
    "}\n",
    "\n",
    "func (a *Action) GiveHands()  {\n",
    "\ta.Human.hands = a.handAmount\n",
    "    a.Human.ShowHands()\n",
    "}"
   ]
  },
  {
   "cell_type": "code",
   "execution_count": 17,
   "metadata": {},
   "outputs": [
    {
     "name": "stdout",
     "output_type": "stream",
     "text": [
      "Количество рук: 2"
     ]
    }
   ],
   "source": [
    "Nick_2 := Human{false, 0}\n",
    "action := Action{Nick_2, 2}\n",
    "action.GiveHands()"
   ]
  },
  {
   "cell_type": "markdown",
   "metadata": {},
   "source": [
    "## 2 Конкурентность\n",
    "Написать программу, которая конкурентно рассчитает значение квадратов чисел  \n",
    "взятых из массива (2,4,6,8,10) и выведет их квадраты в stdout.  "
   ]
  },
  {
   "cell_type": "code",
   "execution_count": 27,
   "metadata": {},
   "outputs": [
    {
     "data": {
      "text/plain": [
       "[4 16 36 64 100]"
      ]
     },
     "execution_count": 27,
     "metadata": {},
     "output_type": "execute_result"
    }
   ],
   "source": [
    "import \"time\"\n",
    "\n",
    "arr := [...]int{2, 4, 6, 8, 10}\n",
    "\n",
    "\n",
    "for id, val := range arr {\n",
    "\tgo func (id, val int)  {\n",
    "\t\tarr[id] = val * val\n",
    "\t}(id, val)\n",
    "}\n",
    "\n",
    "time.Sleep(500 * time.Millisecond)\n",
    "\n",
    "arr"
   ]
  },
  {
   "cell_type": "markdown",
   "metadata": {},
   "source": [
    "## 3 Сумма квадратов\n",
    "Дана последовательность чисел: 2,4,6,8,10. Найти сумму их  \n",
    "квадратов(2²+3²+4²....) с использованием конкурентных вычислений.  "
   ]
  },
  {
   "cell_type": "code",
   "execution_count": 5,
   "metadata": {},
   "outputs": [
    {
     "data": {
      "text/plain": [
       "220"
      ]
     },
     "execution_count": 5,
     "metadata": {},
     "output_type": "execute_result"
    }
   ],
   "source": [
    "import \"time\"\n",
    "\n",
    "arr := [...]int{2, 4, 6, 8, 10}\n",
    "var sum int\n",
    "\n",
    "for id, val := range arr {\n",
    "\tgo func (id, val int)  {\n",
    "\t\tsquare := val * val\n",
    "\t\tarr[id] = square\n",
    "\t\tsum += square\n",
    "\t}(id, val)\n",
    "}\n",
    "\n",
    "time.Sleep(500 * time.Millisecond)\n",
    "\n",
    "sum"
   ]
  },
  {
   "cell_type": "markdown",
   "metadata": {},
   "source": [
    "## 4 Пул воркеров\n",
    "Реализовать постоянную запись данных в канал (главный поток).  \n",
    "Реализовать набор из N воркеров, которые читают произвольные данные из канала и\n",
    "выводят в stdout.   \n",
    "Необходима возможность выбора количества воркеров при\n",
    "старте.\n",
    "\n",
    "Программа должна завершаться по нажатию Ctrl+C. Выбрать и обосновать\n",
    "способ завершения работы всех воркеров"
   ]
  },
  {
   "attachments": {},
   "cell_type": "markdown",
   "metadata": {},
   "source": [
    "Запустить и провериить можно в файле `4.go`"
   ]
  },
  {
   "cell_type": "code",
   "execution_count": 6,
   "metadata": {},
   "outputs": [],
   "source": [
    "import (\n",
    "\t\"fmt\"\n",
    "\t\"os\"\n",
    "\t\"os/signal\"\n",
    "\t\"syscall\"\n",
    "\t\"time\"\n",
    ")"
   ]
  },
  {
   "cell_type": "code",
   "execution_count": null,
   "metadata": {},
   "outputs": [],
   "source": [
    "sigs := make(chan os.Signal)  // Канал с сигналами операционной системы\n",
    "cancel := make(chan bool)     // Канал с уведомлением о отмене по Ctrl+C\n",
    "main_thread := Writer(cancel) // Главный поток\n",
    "\n",
    "const amount = 4\n",
    "\n",
    "// Запуск воркеров\n",
    "for i := 0; i < amount; i++ {\n",
    "    go Worker(main_thread, PretendHelpfull)\n",
    "}\n",
    "\n",
    "// Канал оиждания прерывания\n",
    "done := make(chan bool)\n",
    "// Подписка на уведомление о прерывании\n",
    "signal.Notify(sigs, syscall.SIGINT)\n",
    "\n",
    "go func() {\n",
    "    <-sigs         // Получение прерывания\n",
    "    cancel <- true // Завершение горутин воркеров\n",
    "    done <- true   // Завершение этой горутины\n",
    "}()\n",
    "\n",
    "<-done // Ожидание команды завершения"
   ]
  },
  {
   "cell_type": "code",
   "execution_count": 12,
   "metadata": {},
   "outputs": [],
   "source": [
    "// Чтение канала\n",
    "func Worker(inp chan int, work func(v int)) {\n",
    "\tfor v := range inp {\n",
    "\t\twork(v)\n",
    "\t}\n",
    "}\n",
    "\n",
    "// Типа полезная работа\n",
    "func PretendHelpfull(value int) {\n",
    "\ttime.Sleep(500 * time.Millisecond)\n",
    "\tfmt.Print(value, \", \")\n",
    "}"
   ]
  },
  {
   "cell_type": "code",
   "execution_count": null,
   "metadata": {},
   "outputs": [],
   "source": [
    "// Запись в канал\n",
    "func Writer(cancel chan bool) chan int {\n",
    "\tmain_thread := make(chan int)\n",
    "\n",
    "\tgo func() {\n",
    "\t\ti := 0\n",
    "\t\tdefer close(main_thread)\n",
    "\t\tfor {\n",
    "\t\t\ti++\n",
    "\t\t\tselect {\n",
    "\t\t\tcase main_thread <- i:\n",
    "\t\t\tcase <-cancel:\n",
    "\t\t\t\treturn\n",
    "\t\t\t}\n",
    "\t\t}\n",
    "\t}()\n",
    "\n",
    "\treturn main_thread\n",
    "}"
   ]
  },
  {
   "attachments": {},
   "cell_type": "markdown",
   "metadata": {},
   "source": [
    "## 5 Чтение канала\n",
    "\n",
    "Разработать программу, которая будет последовательно отправлять  \n",
    "значения в канал, а с другой стороны канала — читать.  \n",
    "По истечению N секунд программа должна завершаться.\n"
   ]
  },
  {
   "cell_type": "markdown",
   "metadata": {},
   "source": [
    "*(запуск в файле 5.go)*"
   ]
  },
  {
   "cell_type": "code",
   "execution_count": null,
   "metadata": {},
   "outputs": [],
   "source": [
    "duration := 3\n",
    "\n",
    "ch := Writer(duration)\n",
    "go Reader(ch)\n",
    "\n",
    "time.Sleep(time.Second * 4)"
   ]
  },
  {
   "cell_type": "code",
   "execution_count": null,
   "metadata": {},
   "outputs": [],
   "source": [
    "func Writer(duration int) chan int {\n",
    "\tch := make(chan int)\n",
    "\tcount := 0\n",
    "\n",
    "\talarm := time.After(time.Duration(duration * int(time.Second)))\n",
    "\tgo func() {\n",
    "\t\tdefer close(ch)\n",
    "\t\tfor {\n",
    "\t\t\tcount++\n",
    "\t\t\ttime.Sleep(time.Millisecond * 250)\n",
    "\t\t\tselect {\n",
    "\t\t\tcase ch <- count:\n",
    "\t\t\tcase t := <-alarm:\n",
    "\t\t\t\treturn\n",
    "\t\t\t}\n",
    "\t\t}\n",
    "\t}()\n",
    "\n",
    "\treturn ch\n",
    "}"
   ]
  },
  {
   "cell_type": "code",
   "execution_count": 21,
   "metadata": {},
   "outputs": [],
   "source": [
    "func Reader(inp chan int)  {\n",
    "\tfor val := range inp {\n",
    "\t\tfmt.Printf(\"Считал - %d\", val)\n",
    "\t}\n",
    "}"
   ]
  },
  {
   "cell_type": "markdown",
   "metadata": {},
   "source": [
    "## 6 Остановка горутин\n",
    "Реализовать все возможные способы остановки выполнения горутины."
   ]
  },
  {
   "cell_type": "markdown",
   "metadata": {},
   "source": [
    "Закрытие канала\n"
   ]
  },
  {
   "cell_type": "code",
   "execution_count": null,
   "metadata": {},
   "outputs": [],
   "source": [
    "ch := make(chan bool)\n",
    "\n",
    "go func() {\n",
    "\tfor val := range ch {\n",
    "\t\tfmt.Println(val)\n",
    "\t}\n",
    "\tfmt.Println(\"Завершение\")\n",
    "}()\n",
    "\n",
    "ch<-false\n",
    "ch<-false\n",
    "\n",
    "close(ch)"
   ]
  },
  {
   "cell_type": "markdown",
   "metadata": {},
   "source": [
    "\n",
    "wg.Done\n"
   ]
  },
  {
   "cell_type": "code",
   "execution_count": null,
   "metadata": {},
   "outputs": [],
   "source": [
    "import \"sync\"\n",
    "\n",
    "var wg sync.WaitGroup\n",
    "\n",
    "wg.Add(1)\n",
    "\n",
    "go func(wg sync.WaitGroup) {\n",
    "\tfmt.Println(\"hello\")\n",
    "\twg.Done()\n",
    "}(wg)\n",
    "\n",
    "wg.Wait()"
   ]
  },
  {
   "cell_type": "markdown",
   "metadata": {},
   "source": [
    "\n",
    "runtime.Goexit()"
   ]
  },
  {
   "cell_type": "code",
   "execution_count": null,
   "metadata": {},
   "outputs": [],
   "source": [
    "import \"runtime\"\n",
    "\n",
    "func exit() {\n",
    "    fmt.Println(\"Старт горутины\")\n",
    "    defer fmt.Println(\"Отложеннный вызов в горутине\")\n",
    "    runtime.Goexit()\n",
    "}\n",
    "\n",
    "go exit()\n",
    "\n",
    "time.Sleep(time.Second * 2)"
   ]
  },
  {
   "attachments": {},
   "cell_type": "markdown",
   "metadata": {},
   "source": [
    "## 7 Конкурентная запись в map\n",
    "Реализовать конкурентную запись данных в map."
   ]
  },
  {
   "cell_type": "code",
   "execution_count": 5,
   "metadata": {},
   "outputs": [
    {
     "name": "stdout",
     "output_type": "stream",
     "text": [
      "map[int]int{1:100}"
     ]
    },
    {
     "data": {
      "text/plain": [
       "18 <nil>"
      ]
     },
     "execution_count": 5,
     "metadata": {},
     "output_type": "execute_result"
    }
   ],
   "source": [
    "import (\n",
    "\t\"fmt\"\n",
    "\t\"sync\"\n",
    ")\n",
    "\n",
    "m := map[int]int{}\n",
    "mux := sync.Mutex{}\n",
    "\n",
    "writer := func (m map[int]int, mux *sync.Mutex, wg *sync.WaitGroup)  {\n",
    "\tidx := 1\t\t\t\t// Если не лочить - произойдёт гонка\n",
    "\tmux.Lock()\t\t\t\t// гонка - одновременная запись по одному ключу.  \n",
    "\tm[idx]++\t\t\t\t// не засчитается одна из операций, нарушится целостность данных\n",
    "\tmux.Unlock()\n",
    "\twg.Done()\n",
    "}\n",
    "\n",
    "\n",
    "var wg sync.WaitGroup\n",
    "\n",
    "for i := 0; i < 100; i++ {\n",
    "\twg.Add(1)\n",
    "\tgo writer(m, &mux, &wg)\n",
    "}\n",
    "\n",
    "wg.Wait()\n",
    "fmt.Printf(\"%#v\", m)"
   ]
  },
  {
   "attachments": {},
   "cell_type": "markdown",
   "metadata": {},
   "source": [
    "## 8 Установка бита\n",
    "Дана переменная int64. Разработать программу которая устанавливает i-й бит в 1 или 0.\n"
   ]
  },
  {
   "cell_type": "code",
   "execution_count": 34,
   "metadata": {},
   "outputs": [],
   "source": [
    "import \"math\""
   ]
  },
  {
   "cell_type": "code",
   "execution_count": 184,
   "metadata": {},
   "outputs": [],
   "source": [
    "func changeBit(num int64, bit uint) {\n",
    "\tmask := int64(1 << bit)\n",
    "\n",
    "\tfmt.Println(\"   XOR\")\n",
    "\tfmt.Printf(\"%08b - маска\\n    ↓\\n\", mask)\n",
    "\n",
    "\tnum = num ^ mask\n",
    "\n",
    "\tfmt.Printf(\"%08b - результат\\n\", num)\n",
    "}"
   ]
  },
  {
   "cell_type": "code",
   "execution_count": 185,
   "metadata": {},
   "outputs": [
    {
     "name": "stdout",
     "output_type": "stream",
     "text": [
      "00101010 - исходное число\n",
      "   XOR\n",
      "00100000 - маска\n",
      "    ↓\n",
      "00001010 - результат\n"
     ]
    }
   ],
   "source": [
    "var num int64 = 42\n",
    "fmt.Printf(\"%08b - исходное число\\n\", num)\t// Посмотреть битовое представление\n",
    "changeBit(num, 5)\t\t\t\t\t\t\t// Изменить iый бит"
   ]
  },
  {
   "attachments": {},
   "cell_type": "markdown",
   "metadata": {},
   "source": [
    "## 9 Конвейер чисел\n",
    "Разработать конвейер чисел. Даны два канала: в первый пишутся числа (x) из массива, во второй — результат операции x*2, после чего данные из второго канала должны выводиться в stdout.\n"
   ]
  },
  {
   "cell_type": "code",
   "execution_count": 9,
   "metadata": {},
   "outputs": [
    {
     "name": "stdout",
     "output_type": "stream",
     "text": [
      "9\n",
      "25\n",
      "49\n",
      "81\n",
      "121\n",
      "169\n"
     ]
    }
   ],
   "source": [
    "arr := []int{3, 5, 7, 9, 11, 13}\n",
    "\n",
    "nums := writer(arr)\t\t\t\t// Запись чисел из массива в канал\n",
    "power_nums := givePower(nums)\t// Запись x^2 в канал\n",
    "showPower(power_nums)\t\t\t// Вывод"
   ]
  },
  {
   "cell_type": "code",
   "execution_count": null,
   "metadata": {},
   "outputs": [],
   "source": [
    "func writer(arr []int) chan int {\n",
    "\tout := make(chan int)\n",
    "\n",
    "\tgo func(arr []int) {\n",
    "\t\tdefer close(out)\t\t// Почему то не работает в нотебуке\n",
    "\t\tfor _, v := range arr {\n",
    "\t\t\tout <- v\n",
    "\t\t}\n",
    "\t}(arr)\n",
    "\n",
    "\treturn out\n",
    "}"
   ]
  },
  {
   "cell_type": "code",
   "execution_count": null,
   "metadata": {},
   "outputs": [],
   "source": [
    "func givePower(inp <-chan int) chan int {\n",
    "\tout := make(chan int)\n",
    "\tgo func() {\n",
    "\t\tdefer close(out)\n",
    "\t\tfor v := range inp {\n",
    "\t\t\tout <- (v * v)\n",
    "\t\t}\n",
    "\t}()\n",
    "\treturn out\n",
    "}"
   ]
  },
  {
   "cell_type": "code",
   "execution_count": 4,
   "metadata": {},
   "outputs": [],
   "source": [
    "import \"fmt\"\n",
    "\n",
    "func showPower(inp chan int) {\n",
    "\tfor v := range inp {\n",
    "\t\tfmt.Println(v)\n",
    "\t}\n",
    "}"
   ]
  },
  {
   "attachments": {},
   "cell_type": "markdown",
   "metadata": {},
   "source": [
    "## 10 Распределение температур\n",
    "Дана последовательность температурных колебаний: -25.4, -27.0 13.0, 19.0,  \n",
    "15.5, 24.5, -21.0, 32.5. Объединить данные значения в группы с шагом в 10 градусов.  \n",
    "Последовательность в подмножноствах не важна.  \n",
    "Пример: -20:{-25.0, -27.0, -21.0}, 10:{13.0, 19.0, 15.5}, 20: {24.5}, etc.\n"
   ]
  },
  {
   "cell_type": "code",
   "execution_count": 41,
   "metadata": {},
   "outputs": [
    {
     "data": {
      "text/plain": [
       "map[10:[13 19 15.5] 20:[24.5] 30:[32.5] -20:[-25.4 -27 -21]]"
      ]
     },
     "execution_count": 41,
     "metadata": {},
     "output_type": "execute_result"
    }
   ],
   "source": [
    "temps := []float32{-25.4, -27.0, 13.0, 19.0, 15.5, 24.5, -21.0, 32.5}\n",
    "temp_group := map[int][]float32{}\n",
    "\n",
    "for _, v := range temps {\n",
    "\tgroup := int(v) / 10 * 10\n",
    "\ttemp_group[group] = append(temp_group[group], v)\n",
    "}\n",
    "temp_group"
   ]
  },
  {
   "attachments": {},
   "cell_type": "markdown",
   "metadata": {},
   "source": [
    "## 11 Пересечение множеств\n",
    "Реализовать пересечение двух неупорядоченных множеств.\n"
   ]
  },
  {
   "cell_type": "code",
   "execution_count": 60,
   "metadata": {},
   "outputs": [
    {
     "data": {
      "text/plain": [
       "[5 7]"
      ]
     },
     "execution_count": 60,
     "metadata": {},
     "output_type": "execute_result"
    }
   ],
   "source": [
    "set_1 := []int{2, 4, 5, 7}\n",
    "set_2 := []int{1, 3, 5, 7}\n",
    "\n",
    "matched := intersection(set_1, set_2)\n",
    "matched"
   ]
  },
  {
   "cell_type": "code",
   "execution_count": 58,
   "metadata": {},
   "outputs": [],
   "source": [
    "func intersection(s1, s2 []int) []int {\n",
    "\tmatched := make([]int, 0)\n",
    "\n",
    "\tfor _, v1 := range s1 {\n",
    "\t\tfor _, v2 := range s2 {\n",
    "\t\t\tif v1 == v2 {\n",
    "\t\t\t\tmatched = append(matched, v1)\n",
    "\t\t\t}\n",
    "\t\t}\n",
    "\t}\n",
    "\treturn matched\n",
    "}"
   ]
  },
  {
   "attachments": {},
   "cell_type": "markdown",
   "metadata": {},
   "source": [
    "## 12 Множество строк\n",
    "Имеется последовательность строк - (cat, cat, dog, cat, tree) создать для нее\n",
    "собственное множество."
   ]
  },
  {
   "cell_type": "code",
   "execution_count": 52,
   "metadata": {},
   "outputs": [
    {
     "data": {
      "text/plain": [
       "[cat dog tree]"
      ]
     },
     "execution_count": 52,
     "metadata": {},
     "output_type": "execute_result"
    }
   ],
   "source": [
    "seq := []string{\"cat\", \"cat\", \"dog\", \"cat\", \"tree\"}\n",
    "\n",
    "set := makeSet(seq)\n",
    "set"
   ]
  },
  {
   "cell_type": "code",
   "execution_count": 51,
   "metadata": {},
   "outputs": [],
   "source": [
    "func makeSet(seq []string) []string {\n",
    "\tset := make([]string, 0)\n",
    "\n",
    "\tcontains := func(s []string, ref string) bool {\n",
    "\t\tfor _, compared := range s {\n",
    "\t\t\tif compared == ref {\n",
    "\t\t\t\treturn true\n",
    "\t\t\t}\n",
    "\t\t}\n",
    "\t\treturn false\n",
    "\t}\n",
    "\n",
    "\tfor _, v := range seq {\n",
    "\t\tif !contains(set, v) {\n",
    "\t\t\tset = append(set, v)\n",
    "\t\t}\n",
    "\t}\n",
    "\treturn set\n",
    "}"
   ]
  },
  {
   "attachments": {},
   "cell_type": "markdown",
   "metadata": {},
   "source": [
    "## 13 Распаковка переменных\n",
    "Поменять местами два числа без создания временной переменной.\n"
   ]
  },
  {
   "cell_type": "code",
   "execution_count": 14,
   "metadata": {},
   "outputs": [
    {
     "name": "stdout",
     "output_type": "stream",
     "text": [
      "3 1\n"
     ]
    },
    {
     "data": {
      "text/plain": []
     },
     "execution_count": 14,
     "metadata": {},
     "output_type": "execute_result"
    }
   ],
   "source": [
    "a, b := 1, 3\n",
    "a, b = b, a\n",
    "\n",
    "fmt.Println(a, b); \"\""
   ]
  },
  {
   "attachments": {},
   "cell_type": "markdown",
   "metadata": {},
   "source": [
    "## 14 Определение типа\n",
    "Разработать программу, которая в рантайме способна определить тип\n",
    "переменной: int, string, bool, channel из переменной типа interface{}.\n"
   ]
  },
  {
   "cell_type": "code",
   "execution_count": 17,
   "metadata": {},
   "outputs": [],
   "source": [
    "func do(i interface{}) {\n",
    "\tswitch v := i.(type) {\n",
    "\tcase int:\n",
    "\t\tfmt.Printf(\"Twice %v is %v\\n\", v, v*2)\n",
    "\tcase string:\n",
    "\t\tfmt.Printf(\"%q is %v bytes long\\n\", v, len(v))\n",
    "\tdefault:\n",
    "\t\tfmt.Printf(\"I don't know about type %T!\\n\", v)\n",
    "\t}\n",
    "}"
   ]
  },
  {
   "cell_type": "code",
   "execution_count": 21,
   "metadata": {},
   "outputs": [
    {
     "name": "stdout",
     "output_type": "stream",
     "text": [
      "Twice 13 is 26\n",
      "\"ffffuck\" is 7 bytes long\n",
      "I don't know about type bool!\n"
     ]
    }
   ],
   "source": [
    "do(13)\n",
    "do(\"ffffuck\")\n",
    "do(false)"
   ]
  },
  {
   "attachments": {},
   "cell_type": "markdown",
   "metadata": {},
   "source": [
    "## 15 Утечка памяти\n",
    "К каким негативным последствиям может привести данный фрагмент кода, и как\n",
    "это исправить?  \n",
    "Приведите корректный пример реализации.\n",
    "\n",
    "```go\n",
    "var justString string\n",
    "func someFunc() {\n",
    "    v := createHugeString(1 << 10)\n",
    "    justString = v[:100]\n",
    "}\n",
    "\n",
    "func main() {\n",
    "    someFunc()\n",
    "}\n",
    "```"
   ]
  },
  {
   "attachments": {},
   "cell_type": "markdown",
   "metadata": {},
   "source": [
    "Глобальная `justString` ссылается на первые 100 байт строки `v`,  \n",
    "из за этого в куче требуется целиком хранить строку `v`,  \n",
    "`v` не используется нигде кроме фукции - это приводит к утечке памяти\n",
    "\n",
    "Корректный пример:\n",
    "```go\n",
    "justString := make([]byte, 100)\n",
    "\n",
    "func someFunc() {\n",
    "    v := createHugeString(1 << 10)\n",
    "    copy(justString, v[:100])       // Теперь на v не будет лишних ссылок и сборщик мусора её удалит\n",
    "}\n",
    "\n",
    "func main() {\n",
    "    someFunc()\n",
    "}\n",
    "```"
   ]
  },
  {
   "attachments": {},
   "cell_type": "markdown",
   "metadata": {},
   "source": [
    "## 16 Быстрая сортировка\n",
    "Реализовать быструю сортировку массива (quicksort) встроенными методами\n",
    "языка."
   ]
  },
  {
   "cell_type": "code",
   "execution_count": 2,
   "metadata": {},
   "outputs": [],
   "source": [
    "import (\n",
    "\t\"fmt\"\n",
    "\t\"sort\"\n",
    "\t\"math/rand\"\n",
    ")\n",
    "\n",
    "func genNums(len int) []int {\n",
    "\tarr := make([]int, len)\n",
    "\tfor k, _ := range arr {\n",
    "\t\tarr[k] = rand.Intn(10)\n",
    "\t}\n",
    "\treturn arr\n",
    "}"
   ]
  },
  {
   "cell_type": "code",
   "execution_count": 3,
   "metadata": {},
   "outputs": [],
   "source": [
    "func Split(n []int, l, r int) int {\n",
    "\tpole := l\n",
    "\tfor {\n",
    "\t\tfmt.Println(n, l, r)\n",
    "\t\tfor l < len(n) && n[l] < n[pole] {\n",
    "\t\t\tl++\n",
    "\t\t}\n",
    "\t\tfor r >= 0 && n[r] > n[pole] {\n",
    "\t\t\tr--\n",
    "\t\t}\n",
    "\t\tif l >= r {\n",
    "\t\t\treturn r+1\n",
    "\t\t}\n",
    "\t\tn[l], n[r] = n[r], n[l]\n",
    "\t\tl++; r--\n",
    "\t}\n",
    "}\n",
    "\n",
    "func sort(n []int, l, r int)  {\n",
    "\tif l < r {\n",
    "\t\tidx := Split(n, l, r)\n",
    "\t\tfmt.Println(n[l:idx], n[idx:r+1])\n",
    "\t\tsort(n, l, idx-1)\n",
    "\t\tsort(n, idx, r)\n",
    "\t}\n",
    "}"
   ]
  },
  {
   "cell_type": "code",
   "execution_count": 4,
   "metadata": {},
   "outputs": [
    {
     "name": "stdout",
     "output_type": "stream",
     "text": [
      "[1 7 7 9 1 8]\n",
      "[1 7 7 9 1 8] 0 5\n",
      "[1 7 7 9 1 8] 1 3\n",
      "[1] [7 7 9 1 8]\n",
      "[1 7 7 9 1 8] 1 5\n",
      "[1 1 7 9 7 8] 2 3\n",
      "[1] [7 9 7 8]\n",
      "[1 1 7 9 7 8] 2 5\n",
      "[1 1 7 9 7 8] 3 3\n",
      "[7] [9 7 8]\n",
      "[1 1 7 9 7 8] 3 5\n",
      "[1 1 7 8 7 9] 4 4\n",
      "[8 7] [9]\n",
      "[1 1 7 8 7 9] 3 4\n",
      "[1 1 7 7 8 9] 4 3\n",
      "[7] [8]\n"
     ]
    },
    {
     "data": {
      "text/plain": [
       "[1 1 7 7 8 9]"
      ]
     },
     "execution_count": 4,
     "metadata": {},
     "output_type": "execute_result"
    }
   ],
   "source": [
    "arr := genNums(6)\n",
    "fmt.Println(arr)\n",
    "\n",
    "sort(arr, 0, len(arr)-1)\n",
    "arr"
   ]
  },
  {
   "attachments": {},
   "cell_type": "markdown",
   "metadata": {},
   "source": [
    "## 17 Бинарный поиск\n",
    "Реализовать бинарный поиск встроенными методами языка.\n"
   ]
  },
  {
   "cell_type": "code",
   "execution_count": 1,
   "metadata": {},
   "outputs": [],
   "source": [
    "import (\n",
    "\t\"fmt\"\n",
    "\t\"sort\"\n",
    "\t\"math/rand\"\n",
    ")\n",
    "\n",
    "func genNums(len int) []int {\n",
    "\tarr := make([]int, len)\n",
    "\tfor k, _ := range arr {\n",
    "\t\tarr[k] = rand.Intn(100)\n",
    "\t}\n",
    "\treturn arr\n",
    "}\n",
    "\n",
    "func Sort(n []int) {\n",
    "\tsort.Slice(n, func (i, j int) bool {\n",
    "\t\treturn n[i] < n[j]\n",
    "\t})\n",
    "}"
   ]
  },
  {
   "cell_type": "code",
   "execution_count": 67,
   "metadata": {},
   "outputs": [],
   "source": [
    "func binSearch(arr []int, v int) int {\n",
    "\tl := len(arr)\n",
    "\tleft, right := 0, l\n",
    "\tfor {\n",
    "\t\tl = right - left\n",
    "\t\tsplit := l / 2 + left\n",
    "\t\tfmt.Println(arr[left:split], \" | \", arr[split], \" | \", arr[split+1:right])\n",
    "\n",
    "\t\tif arr[split] == v {\n",
    "\t\t\treturn split\n",
    "\t\t}\n",
    "\n",
    "\t\tif v < arr[split] {\n",
    "\t\t\tright = split\n",
    "\t\t} else if v > arr[split] {\n",
    "\t\t\tleft = split+1\n",
    "\t\t}\n",
    "\n",
    "\t\tif right - left == l {\n",
    "\t\t\treturn -1\n",
    "\t\t}\n",
    "\t}\n",
    "}"
   ]
  },
  {
   "cell_type": "code",
   "execution_count": 71,
   "metadata": {},
   "outputs": [
    {
     "data": {
      "text/plain": [
       "[1 2 4 5 8 10 15 22 23 31 35 39 40 40 40 42 43 44 51 51 54 57 58 62 64 66 67 68 76 78 83 86 90]"
      ]
     },
     "execution_count": 71,
     "metadata": {},
     "output_type": "execute_result"
    }
   ],
   "source": [
    "arr := genNums(33)\n",
    "Sort(arr)\n",
    "arr"
   ]
  },
  {
   "cell_type": "code",
   "execution_count": 72,
   "metadata": {},
   "outputs": [
    {
     "name": "stdout",
     "output_type": "stream",
     "text": [
      "[1 2 4 5 8 10 15 22 23 31 35 39 40 40 40 42]  |  43  |  [44 51 51 54 57 58 62 64 66 67 68 76 78 83 86 90]\n",
      "[44 51 51 54 57 58 62 64]  |  66  |  [67 68 76 78 83 86 90]\n",
      "[44 51 51 54]  |  57  |  [58 62 64]\n",
      "[44 51]  |  51  |  [54]\n",
      "[]  |  54  |  []\n"
     ]
    },
    {
     "data": {
      "text/plain": [
       "20"
      ]
     },
     "execution_count": 72,
     "metadata": {},
     "output_type": "execute_result"
    }
   ],
   "source": [
    "const val = 54\n",
    "binSearch(arr, val)"
   ]
  },
  {
   "attachments": {},
   "cell_type": "markdown",
   "metadata": {},
   "source": [
    "## 18 Конкурентная структура инкремент\n",
    "Реализовать структуру-счетчик, которая будет инкрементироваться в\n",
    "конкурентной среде. По завершению программа должна выводить итоговое\n",
    "значение счетчика."
   ]
  },
  {
   "cell_type": "code",
   "execution_count": 13,
   "metadata": {},
   "outputs": [],
   "source": [
    "import \"sync/atomic\"\n",
    "\n",
    "type counter struct {\n",
    "\tamount int32\n",
    "}\n",
    "\n",
    "func (c *counter) incr()  {\n",
    "\tatomic.AddInt32(&c.amount, 1)\t\n",
    "}"
   ]
  },
  {
   "cell_type": "code",
   "execution_count": 46,
   "metadata": {},
   "outputs": [
    {
     "data": {
      "text/plain": [
       "{100}"
      ]
     },
     "execution_count": 46,
     "metadata": {},
     "output_type": "execute_result"
    }
   ],
   "source": [
    "count := counter{}\n",
    "\n",
    "for i := 0; i < 100; i++ {\n",
    "\tgo func() {\n",
    "\t\tcount.incr()\n",
    "\t}()\n",
    "}\n",
    "time.Sleep(time.Second / 100)\n",
    "count"
   ]
  },
  {
   "attachments": {},
   "cell_type": "markdown",
   "metadata": {},
   "source": [
    "## 19 Разворот unicode строки\n",
    "Разработать программу, которая переворачивает подаваемую на ход строку\n",
    "(например: «главрыба — абырвалг»).  \n",
    "Символы могут быть unicode.\n"
   ]
  },
  {
   "cell_type": "code",
   "execution_count": 30,
   "metadata": {},
   "outputs": [],
   "source": [
    "import \"unicode/utf8\"\n",
    "\n",
    "func reverse(s string) string {\n",
    "\tr := []rune(s)\n",
    "\tn := utf8.RuneCountInString(s)\n",
    "\n",
    "\tfor i, j := 0, n-1; i < j; i, j = i+1, j-1 {\n",
    "\t\tr[i], r[j] = r[j], r[i]\n",
    "\t}\n",
    "\n",
    "\treturn string(r)\n",
    "}"
   ]
  },
  {
   "cell_type": "code",
   "execution_count": 31,
   "metadata": {},
   "outputs": [
    {
     "data": {
      "text/plain": [
       "bабырвалг"
      ]
     },
     "execution_count": 31,
     "metadata": {},
     "output_type": "execute_result"
    }
   ],
   "source": [
    "reverse(\"главрыбаb\")"
   ]
  },
  {
   "attachments": {},
   "cell_type": "markdown",
   "metadata": {},
   "source": [
    "## 20 Разворот предложения\n",
    "Разработать программу, которая переворачивает слова в строке.\n",
    "Пример: «snow dog sun — sun dog snow».\n"
   ]
  },
  {
   "cell_type": "code",
   "execution_count": 41,
   "metadata": {},
   "outputs": [],
   "source": [
    "import \"strings\"\n",
    "\n",
    "func reverseSentence(s string) []string {\n",
    "\twords := strings.Fields(s)\n",
    "\tres := make([]string, len(words))\n",
    "\tfor i, j := 0, len(words)-1; i < j; i, j = i+1, j-1 {\n",
    "\t\tres[i], res[j] = words[j], words[i]\n",
    "\t}\n",
    "\treturn res\n",
    "}"
   ]
  },
  {
   "cell_type": "code",
   "execution_count": 43,
   "metadata": {},
   "outputs": [
    {
     "data": {
      "text/plain": [
       "[мир привет всем привет]"
      ]
     },
     "execution_count": 43,
     "metadata": {},
     "output_type": "execute_result"
    }
   ],
   "source": [
    "reverseSentence(\"привет всем привет мир\")"
   ]
  },
  {
   "attachments": {},
   "cell_type": "markdown",
   "metadata": {},
   "source": [
    "## 21 Адаптер\n",
    "Реализовать паттерн «адаптер» на любом примере.\n"
   ]
  },
  {
   "attachments": {},
   "cell_type": "markdown",
   "metadata": {},
   "source": [
    "\n",
    "Существующий интерфейс"
   ]
  },
  {
   "cell_type": "code",
   "execution_count": 55,
   "metadata": {},
   "outputs": [],
   "source": [
    "type PixelMap interface {\n",
    "\tsetPix(x, y int)\n",
    "}\n",
    "\n",
    "// Структура с координатами\n",
    "type pixelMap struct {\n",
    "\twidth, height int\n",
    "\tcoords [][]int\n",
    "}\n",
    "\n",
    "func (pm *pixelMap) setPix(x, y int)  {\n",
    "\t// ... Проверки, преобразования, суета\n",
    "\tpm.coords[x][y] = x^y\n",
    "}"
   ]
  },
  {
   "attachments": {},
   "cell_type": "markdown",
   "metadata": {},
   "source": [
    "Интерфейс с специфичным методом  \n",
    "Требуется использовать уже существующий pixelMap"
   ]
  },
  {
   "cell_type": "code",
   "execution_count": 57,
   "metadata": {},
   "outputs": [],
   "source": [
    "type Pencil interface {\n",
    "\tdrawCircle(x, y, r int)\n",
    "}\n",
    "\n",
    "// Структура с координатами в абстрактной системе координат\n",
    "type pencil struct {\n",
    "\tabstrctDots [][]int\t\t// Двумерный срез координат \n",
    "}\n",
    "\n",
    "func (p *pencil) drawCircle(x, y, r int)  {\n",
    "\tfor i := 0; i < 360; i++ {\n",
    "\t\tdot := make([]int, 2)\n",
    "\t\t// ... Вычисление координат\n",
    "\t\tp.abstrctDots = append(p.abstrctDots, dot)\n",
    "\t}\n",
    "}"
   ]
  },
  {
   "attachments": {},
   "cell_type": "markdown",
   "metadata": {},
   "source": [
    "Адаптер - реализует специфичный интерфейс методами существующего"
   ]
  },
  {
   "cell_type": "code",
   "execution_count": 61,
   "metadata": {},
   "outputs": [],
   "source": [
    "type pencilPixAdapter struct {\n",
    "\tpencil\n",
    "\tpixelMap\n",
    "}\n",
    "\n",
    "func (pa *pencilPixAdapter) drawCircle(x, y, r int)  {\n",
    "\tfor _, coord := range pa.pencil.abstrctDots {\n",
    "\t\t// Преобразование из одной системы координат в другую\n",
    "\t\tpa.pixelMap.setPix(coord[0], coord[1])\n",
    "\t}\n",
    "}"
   ]
  },
  {
   "attachments": {},
   "cell_type": "markdown",
   "metadata": {},
   "source": [
    "Использование"
   ]
  },
  {
   "cell_type": "code",
   "execution_count": 68,
   "metadata": {},
   "outputs": [],
   "source": [
    "pencl := pencil{[][]int{} }\n",
    "pixMap := pixelMap{16, 9, [][]int{}}\n",
    "adapter := pencilPixAdapter{pencl, pixMap}"
   ]
  },
  {
   "attachments": {},
   "cell_type": "markdown",
   "metadata": {},
   "source": [
    "## 22 Арифметика больших int'ов\n",
    "Разработать программу, которая перемножает, делит, складывает, вычитает  \n",
    "две числовых переменных a,b, значение которых > 2^20."
   ]
  },
  {
   "cell_type": "code",
   "execution_count": 88,
   "metadata": {},
   "outputs": [
    {
     "name": "stdout",
     "output_type": "stream",
     "text": [
      "20000000 30000000\n",
      "600000000000000\n",
      "1\n",
      "50000000\n",
      "-10000000\n"
     ]
    },
    {
     "data": {
      "text/plain": [
       "10 <nil>"
      ]
     },
     "execution_count": 88,
     "metadata": {},
     "output_type": "execute_result"
    }
   ],
   "source": [
    "import \"math/big\"\n",
    "\n",
    "a := big.NewInt(2e7)\n",
    "b := big.NewInt(3e7)\n",
    "fmt.Println(a, b)\n",
    "\n",
    "// умножение\n",
    "result := new(big.Int).Mul(a, b)\n",
    "fmt.Println(result)\n",
    "\n",
    "// деление\n",
    "result = new(big.Int).Div(b, a)\n",
    "fmt.Println(result)\n",
    "\n",
    "// сложение\n",
    "result = new(big.Int).Add(a, b)\n",
    "fmt.Println(result)\n",
    "\n",
    "// вычитание\n",
    "result = new(big.Int).Sub(a, b)\n",
    "fmt.Println(result)"
   ]
  },
  {
   "cell_type": "markdown",
   "metadata": {},
   "source": [
    "## 23 Удалить i-ый элемент из слайса.\n"
   ]
  },
  {
   "cell_type": "code",
   "execution_count": 69,
   "metadata": {},
   "outputs": [],
   "source": [
    "// Если порядок в срезе не важен\n",
    "func remove(s []int, i int) []int {\n",
    "    s[i] = s[len(s)-1]\n",
    "    return s[:len(s)-1]\n",
    "}"
   ]
  },
  {
   "cell_type": "code",
   "execution_count": 63,
   "metadata": {},
   "outputs": [],
   "source": [
    "// Если порядок важен и некуда спешить\n",
    "func remove(slice []int, s int) []int {\n",
    "    return append(slice[:s], slice[s+1:]...)\n",
    "}"
   ]
  },
  {
   "cell_type": "code",
   "execution_count": 77,
   "metadata": {},
   "outputs": [
    {
     "name": "stdout",
     "output_type": "stream",
     "text": [
      "[0 0 0 0 5 0 0 0 0 10]\n"
     ]
    },
    {
     "data": {
      "text/plain": [
       "[0 0 0 0 10 0 0 0 0]"
      ]
     },
     "execution_count": 77,
     "metadata": {},
     "output_type": "execute_result"
    }
   ],
   "source": [
    "slc := make([]int, 10)\n",
    "slc[4], slc[9] = 5, 10\n",
    "fmt.Println(slc)\n",
    "remove(slc, 4)"
   ]
  },
  {
   "attachments": {},
   "cell_type": "markdown",
   "metadata": {},
   "source": [
    "## 24 Инкапсулированное расстояние\n",
    "Разработать программу нахождения расстояния между двумя точками, которые  \n",
    "представлены в виде структуры Point с инкапсулированными параметрами x,y и конструктором."
   ]
  },
  {
   "cell_type": "code",
   "execution_count": null,
   "metadata": {},
   "outputs": [],
   "source": [
    "import \"math\"\n",
    "\n",
    "// Структура поля которой необходимо инкапсулировать\n",
    "type point struct {\n",
    "\tx, y float64\t// Недоступны из внешних пакетов так как с маленькой буквы\n",
    "}\n",
    "\n",
    "// Получение координат\n",
    "func (p point) Coords() (float64, float64) {\n",
    "\treturn p.x, p.y\n",
    "}\n",
    "\n",
    "// Метод нахождения расстояния\n",
    "func (p point) Distance(p2 PointFace) float64 {\n",
    "\tx2, y2 := p2.Coords()\n",
    "\tdx := p.x - x2\n",
    "\tdy := p.y - y2\n",
    "\treturn math.Sqrt(dx*dx - dy*dy)\n",
    "}\n"
   ]
  },
  {
   "cell_type": "code",
   "execution_count": 29,
   "metadata": {},
   "outputs": [],
   "source": [
    "// Интерфейс для инкапсуляции\n",
    "type PointFace interface {\n",
    "\tCoords() (float64, float64)\n",
    "\tDistance(p2 PointFace) float64\n",
    "}\n",
    "\n",
    "// Встраивание интерфейса\n",
    "type Point struct {\n",
    "\tPointFace\n",
    "}\n",
    "\n",
    "// Констрктор\n",
    "func NewPoint(x, y float64) Point {\n",
    "\treturn Point{point{x: x, y: y}}\n",
    "}"
   ]
  },
  {
   "cell_type": "code",
   "execution_count": 19,
   "metadata": {},
   "outputs": [],
   "source": [
    "p := NewPoint(5, 5)\n",
    "q := NewPoint(10, 10)\n",
    "fmt.Printf(\"Тип: %#v\\n\\n\", p)\n",
    "\n",
    "d := q.Distance(p)\n",
    "fmt.Println(d)\n",
    "\n",
    "// p.x -> p.x undefined (type Point has no field or method x)"
   ]
  },
  {
   "attachments": {},
   "cell_type": "markdown",
   "metadata": {},
   "source": [
    "Здесь код не работает, поэтому решение продублировано в файле `24.go`  \n",
    "Вывод программы:\n",
    "```\n",
    "Тип: main.Point{PointFace:main.point{x:5, y:5}}\n",
    "\n",
    "7.0710678118654755\n",
    "```"
   ]
  },
  {
   "cell_type": "markdown",
   "metadata": {},
   "source": [
    "## 25 Реализовать собственную функцию sleep.\n"
   ]
  },
  {
   "cell_type": "code",
   "execution_count": 34,
   "metadata": {},
   "outputs": [],
   "source": [
    "func sleep(n int) {\n",
    "\tstart := time.Now()\n",
    "\t// Пока: текущее время - время старта < длительность сна\n",
    "\tfor time.Now().Sub(start) < time.Duration(n*int(time.Second)) {\n",
    "\t}\n",
    "}\n"
   ]
  },
  {
   "cell_type": "code",
   "execution_count": 36,
   "metadata": {},
   "outputs": [],
   "source": [
    "// Тоже самое но обнаружил существование Since\n",
    "func sleep(n int) {\n",
    "\tstart := time.Now()\n",
    "\t// Пока: время прошедшее со старта < длительность сна\n",
    "\tfor time.Since(start) < time.Duration(n*int(time.Second)) {\n",
    "\t}\n",
    "}\n"
   ]
  },
  {
   "cell_type": "code",
   "execution_count": 37,
   "metadata": {},
   "outputs": [
    {
     "name": "stdout",
     "output_type": "stream",
     "text": [
      "Took:  5.0000077s\n"
     ]
    },
    {
     "data": {
      "text/plain": [
       "18 <nil>"
      ]
     },
     "execution_count": 37,
     "metadata": {},
     "output_type": "execute_result"
    }
   ],
   "source": [
    "start := time.Now()\n",
    "sleep(5)\n",
    "end := time.Since(start)\n",
    "fmt.Println(\"Took: \", end)"
   ]
  },
  {
   "attachments": {},
   "cell_type": "markdown",
   "metadata": {},
   "source": [
    "## 26 Уникальные символы слова\n",
    "Разработать программу, которая проверяет, что все символы в строке  \n",
    "уникальные (true — если уникальные, false etc). Функция проверки должна быть регистронезависимой.\n",
    "\n",
    "Например:\n",
    "```\n",
    "abcd — true\n",
    "abCdefAaf — false\n",
    "aabcd — fals\n",
    "```"
   ]
  },
  {
   "cell_type": "code",
   "execution_count": 41,
   "metadata": {},
   "outputs": [],
   "source": [
    "import \"strings\"\n",
    "\n",
    "\n",
    "func uniq(s string) bool {\n",
    "\ts = strings.ToLower(s)\n",
    "\tcharSet := make([]rune, len(s))\n",
    "\tduplicates := func (r rune) bool {\n",
    "\t\tfor _, char := range charSet {\n",
    "\t\t\tif r == char {\n",
    "\t\t\t\treturn true\n",
    "\t\t\t}\n",
    "\t\t}\n",
    "\t\treturn false\n",
    "\t}\n",
    "\n",
    "\tfor _, char := range []rune(s) {\n",
    "\t\tif duplicates(char) {\n",
    "\t\t\treturn false\n",
    "\t\t}\n",
    "\t\tcharSet = append(charSet, char)\n",
    "\t}\n",
    "\treturn true\n",
    "}"
   ]
  },
  {
   "cell_type": "code",
   "execution_count": 51,
   "metadata": {},
   "outputs": [
    {
     "data": {
      "text/plain": [
       "true"
      ]
     },
     "execution_count": 51,
     "metadata": {},
     "output_type": "execute_result"
    }
   ],
   "source": [
    "uniq(\"abvгд\")"
   ]
  },
  {
   "cell_type": "code",
   "execution_count": 50,
   "metadata": {},
   "outputs": [
    {
     "data": {
      "text/plain": [
       "false"
      ]
     },
     "execution_count": 50,
     "metadata": {},
     "output_type": "execute_result"
    }
   ],
   "source": [
    "uniq(\"абв Gg\")"
   ]
  },
  {
   "cell_type": "markdown",
   "metadata": {},
   "source": [
    "# Вопросы "
   ]
  },
  {
   "attachments": {},
   "cell_type": "markdown",
   "metadata": {},
   "source": [
    "### 1 Какой самый эффективный способ конкатенации строк?\n",
    "\n",
    "*Паподробней...*\n",
    "\n",
    "`strings.Builder` - избегает дополнительных копирований"
   ]
  },
  {
   "cell_type": "markdown",
   "metadata": {},
   "source": [
    "### 2 Что такое интерфейсы, как они применяются в Go?\n",
    "\n",
    "Интерфейс в го - набор сигнатур методов которые реализует структура\n",
    "\n",
    "Сигнатура - описание функции - тип принимаемых аргументов, тип возвращаемых значений\n",
    "\n",
    "Структура удовлетворяет интерфейсу, если реализует все методы интерфейса\n",
    "\n",
    "Интерфейсы применяются для абстрагирования от реализации,  \n",
    "структура имеющая интерфейс может иметь разные реализации методов\n",
    "\n",
    "Так же с помощью интерфейсов можно скрывать поля структур\n",
    "\n",
    "```go\n",
    "type face struct {\n",
    "\teye int\n",
    "}\n",
    "\n",
    "func (f *face) Blink()  {\n",
    "\tif f.eye >= 2 {\n",
    "\t\tfmt.Println(\"😉\")\n",
    "\t}\n",
    "}\n",
    "\n",
    "type Action interface {\n",
    "\tBlink()\n",
    "}\n",
    "\n",
    "type Head struct {\n",
    "\tAction\n",
    "}\n",
    "\n",
    "h := Head{&face{2}}\n",
    "h.Blink()\n",
    ">>> 😉\n",
    "h.eye\n",
    ">>> type main.Head has no field or method \"eye\": h.eye\n",
    "```"
   ]
  },
  {
   "attachments": {},
   "cell_type": "markdown",
   "metadata": {},
   "source": [
    "### 3 Чем отличаются RWMutex от Mutex?\n",
    "\n",
    "Mutex - инструмент гарантирующий, что определённые общие данные или участок кода,  \n",
    "изменяет/выполняет только одна горутина. Защита от одновременного доступа\n",
    "\n",
    "RWMutex - позволяет блокировать участок кода только для записи.\n",
    "\n",
    "Горутины читатели, если используют `.RLock()`, имеют одновременный доступ к участку кода не блокируя его друг для друга  \n",
    "Горутина писатель, заблокировавшая `.Lock()` заблокирует участок для всех "
   ]
  },
  {
   "cell_type": "markdown",
   "metadata": {},
   "source": [
    "### 4 Чем отличаются буферизированные и не буферизированные каналы?\n",
    "Запись в буферизированный канал не блокирует выполнение, кода пока буффер не будет заполнен\n",
    "\n",
    "Запись и чтение осуществляется через очередь:  \n",
    "Первый записанный будет первым считан\n",
    "\n",
    "После закрытия канала, сначала считаываются все находящиеся в буффере значения, после этого считывание возвращает nil"
   ]
  },
  {
   "cell_type": "markdown",
   "metadata": {},
   "source": [
    "### 5 Какой размер у структуры struct{}{}?\n",
    "0 байт "
   ]
  },
  {
   "attachments": {},
   "cell_type": "markdown",
   "metadata": {},
   "source": [
    "### 6 Есть ли в Go перегрузка методов или операторов?\n",
    "Неа  \n",
    "Таков путь  \n",
    "\n",
    "Для передачи одного опционального параметра, можно использовать синтаксис множественых аргументов\n",
    "\n",
    "```go\n",
    "func test(arg1 int, optional ...int)  {\n",
    "\tfmt.Println(arg1, optional)\n",
    "}\n",
    "\n",
    "test(1); test(1, 2)\n",
    "\n",
    ">> 1 []\n",
    ">> 1 [2]\n",
    "```"
   ]
  },
  {
   "attachments": {},
   "cell_type": "markdown",
   "metadata": {},
   "source": [
    "### 7 В какой последовательности будут выведены элементы map[int]int?\n",
    "Пример:\n",
    "\n",
    "m[0]=1  \n",
    "m[1]=124  \n",
    "m[2]=281  \n",
    "\n",
    "В случайном порядке."
   ]
  },
  {
   "attachments": {},
   "cell_type": "markdown",
   "metadata": {},
   "source": [
    "### 8. В чем разница make и new?\n",
    "\n",
    "make - создание одного из нескольких встроенных типов данных: `slice`, `map` или `channel`\n",
    "\n",
    "new - создание указателя на новый объект\n",
    "\n"
   ]
  },
  {
   "attachments": {},
   "cell_type": "markdown",
   "metadata": {},
   "source": [
    "### 9 Сколько существует способов задать переменную типа slice или map?\n",
    "\n",
    "Литералы (без выделения памяти):\n",
    "```go\n",
    "a := []int{1, 2, 3} // slice\n",
    "m := map[string]int{\"a\": 1, \"b\": 2, \"c\": 3} // map\n",
    "```\n",
    "Создание пустого slice или map:\n",
    "```go\n",
    "a := make([]int, 0)\n",
    "m := make(map[string]int)\n",
    "```\n",
    "Инициализация с заранее выделенной памятью:\n",
    "```go\n",
    "a := make([]int, 3, 5) // slice с длиной 3 и емкостью 5\n",
    "m := make(map[string]int, 100) // map с емкостью 100\n",
    "```\n",
    "Без инициализации и присвоения значений:\n",
    "```go\n",
    "var a []int\n",
    "var m map[string]int\n",
    "```"
   ]
  },
  {
   "attachments": {},
   "cell_type": "markdown",
   "metadata": {},
   "source": [
    "### 10 Что выведет данная программа и почему?\n",
    "\n",
    "```go\n",
    "func update(p *int) {\n",
    "    b := 2\n",
    "    p = &b\n",
    "}\n",
    "\n",
    "func main() {\n",
    "    var (\n",
    "        a = 1\n",
    "        p = &a\n",
    "    )\n",
    "    fmt.Println(*p)\n",
    "    update(p)\n",
    "    fmt.Println(*p)\n",
    "}\n",
    "```\n",
    "\n",
    "Выведет 1 и 2  \n",
    "Потому что по ссылке изменяется значение переменной"
   ]
  },
  {
   "attachments": {},
   "cell_type": "markdown",
   "metadata": {},
   "source": [
    "### 11 Что выведет данная программа и почему?\n",
    "```go\n",
    "func main() {\n",
    "    wg := sync.WaitGroup{}\n",
    "    for i := 0; i < 5; i++ {\n",
    "        wg.Add(1)\n",
    "        go func(wg sync.WaitGroup, i int) {\n",
    "            fmt.Println(i)\n",
    "            wg.Done()\n",
    "        }(wg, i)\n",
    "    }\n",
    "    wg.Wait()\n",
    "    fmt.Println(\"exit\")\n",
    "}\n",
    "```"
   ]
  },
  {
   "attachments": {},
   "cell_type": "markdown",
   "metadata": {},
   "source": [
    "Программа выведет принты и попадёт в вечное ожидание,  \n",
    "группа ожидания передавалась в горутины по значению - каждый раз создовалась новая  \n",
    "\n",
    "Что бы этого избежать, следует передавать группу по ссылке, в данном примере можно обойтись без передачи из за замыкания"
   ]
  },
  {
   "cell_type": "code",
   "execution_count": 2,
   "metadata": {},
   "outputs": [
    {
     "name": "stdout",
     "output_type": "stream",
     "text": [
      "1\n",
      "3\n",
      "4\n",
      "2\n",
      "0\n",
      "exit\n"
     ]
    },
    {
     "data": {
      "text/plain": [
       "5 <nil>"
      ]
     },
     "execution_count": 2,
     "metadata": {},
     "output_type": "execute_result"
    }
   ],
   "source": [
    "import (\n",
    "\t\"fmt\"\n",
    "\t\"sync\"\n",
    ")\n",
    "wg := sync.WaitGroup{}\n",
    "for i := 0; i < 5; i++ {\n",
    "\twg.Add(1)\n",
    "\tgo func(i int) {\n",
    "\t\tfmt.Println(i)\n",
    "\t\twg.Done()\n",
    "\t}(i)\n",
    "}\n",
    "wg.Wait()\n",
    "fmt.Println(\"exit\")"
   ]
  },
  {
   "attachments": {},
   "cell_type": "markdown",
   "metadata": {},
   "source": [
    "### 12 Что выведет данная программа и почему?\n",
    "```go\n",
    "func main() {\n",
    "    n := 0\n",
    "    if true{\n",
    "        n := 1\n",
    "        n++\n",
    "    }\n",
    "    fmt.Println(n)\n",
    "}\n",
    "```"
   ]
  },
  {
   "attachments": {},
   "cell_type": "markdown",
   "metadata": {},
   "source": [
    "Программа выведет 0  \n",
    "Внутри if создаётся и инкрементируется новая - локальная n  \n",
    "\n",
    "При выходе из if она стирается из памяти и выводится ранее созданная n со значением 0"
   ]
  },
  {
   "attachments": {},
   "cell_type": "markdown",
   "metadata": {},
   "source": [
    "### 13 Что выведет данная программа и почему?\n",
    "```go\n",
    "func someAction(v []int8, b int8) {\n",
    "    v[0] = 100\n",
    "    v = append(v, b)\n",
    "}\n",
    "\n",
    "func main() {\n",
    "    var a = []int8{1, 2, 3, 4, 5}\n",
    "    someAction(a, 6)\n",
    "    fmt.Println(a)\n",
    "}\n",
    "```\n",
    "Программа выведет [100 2 3 4 5]  \n",
    "Срезы являются ссылкой на массив  \n",
    "При передаче срезов в функции, значения не копируются, изменятся исходный массив"
   ]
  },
  {
   "attachments": {},
   "cell_type": "markdown",
   "metadata": {},
   "source": [
    "Для массивов всё наоборот - массивы являются значением  \n",
    "При передаче в функцию полностью копируются"
   ]
  },
  {
   "cell_type": "code",
   "execution_count": 60,
   "metadata": {},
   "outputs": [
    {
     "name": "stdout",
     "output_type": "stream",
     "text": [
      "[1 0 0 3]\n"
     ]
    },
    {
     "data": {
      "text/plain": [
       "[1 0 0 3]"
      ]
     },
     "execution_count": 60,
     "metadata": {},
     "output_type": "execute_result"
    }
   ],
   "source": [
    "a := [...]int{0: 1, 3: 3}\n",
    "\n",
    "func y(a [4]int)  {\n",
    "\ta[0] = 0\n",
    "}\n",
    "\n",
    "fmt.Println(a)\n",
    "y(a)\n",
    "a"
   ]
  },
  {
   "attachments": {},
   "cell_type": "markdown",
   "metadata": {},
   "source": [
    "### 14 Что выведет данная программа и почему?\n",
    "```go\n",
    "func main() {\n",
    "    slice := []string{\"a\", \"a\"}\n",
    "    \n",
    "    func(slice []string) {\n",
    "        slice = append(slice, \"a\")\n",
    "        slice[0] = \"b\"\n",
    "        slice[1] = \"b\"\n",
    "        fmt.Print(slice)\n",
    "    }(slice)\n",
    "\n",
    "    fmt.Print(slice)\n",
    "}\n",
    "```\n",
    "\n",
    "Программа выведет `[b b a][a a]`\n",
    "\n",
    "Возвращаемое значение `append` - новый срез с добавленными элементами   \n",
    "Поэтому в анонимной функции изменяется не исходный, а новый срез   \n"
   ]
  },
  {
   "cell_type": "code",
   "execution_count": 73,
   "metadata": {},
   "outputs": [
    {
     "name": "stdout",
     "output_type": "stream",
     "text": [
      "[b b a][b b a]"
     ]
    },
    {
     "data": {
      "text/plain": [
       "7 <nil>"
      ]
     },
     "execution_count": 73,
     "metadata": {},
     "output_type": "execute_result"
    }
   ],
   "source": [
    "slice := []string{\"a\", \"a\"}\n",
    "\n",
    "// Можно сделать грязи с указателями\n",
    "a := func(slice *[]string) {\n",
    "\t*slice = append(*slice, \"a\")\n",
    "\t(*slice)[0] = \"b\"\n",
    "\t(*slice)[1] = \"b\"\n",
    "\tfmt.Print(*slice)\n",
    "}\n",
    "a(&slice)\n",
    "\n",
    "fmt.Print(slice)"
   ]
  },
  {
   "cell_type": "code",
   "execution_count": 75,
   "metadata": {},
   "outputs": [
    {
     "name": "stdout",
     "output_type": "stream",
     "text": [
      "[b b a][b b a]"
     ]
    },
    {
     "data": {
      "text/plain": [
       "7 <nil>"
      ]
     },
     "execution_count": 75,
     "metadata": {},
     "output_type": "execute_result"
    }
   ],
   "source": [
    "slice := []string{\"a\", \"a\"}\n",
    "\n",
    "// А лучше просто вернуть новый срез\n",
    "a := func(slice []string) []string {\n",
    "\tslice = append(slice, \"a\")\n",
    "\tslice[0] = \"b\"\n",
    "\tslice[1] = \"b\"\n",
    "\tfmt.Print(slice)\n",
    "\treturn slice\n",
    "}\n",
    "slice = a(slice)\n",
    "\n",
    "fmt.Print(slice)"
   ]
  }
 ],
 "metadata": {
  "kernelspec": {
   "display_name": "Go",
   "language": "go",
   "name": "gophernotes"
  },
  "language_info": {
   "codemirror_mode": "",
   "file_extension": ".go",
   "mimetype": "",
   "name": "go",
   "nbconvert_exporter": "",
   "pygments_lexer": "",
   "version": "go1.11.4"
  }
 },
 "nbformat": 4,
 "nbformat_minor": 2
}
